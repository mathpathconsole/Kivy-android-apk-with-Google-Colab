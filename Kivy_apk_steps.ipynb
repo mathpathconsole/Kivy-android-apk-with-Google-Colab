{
  "nbformat": 4,
  "nbformat_minor": 0,
  "metadata": {
    "colab": {
      "provenance": []
    },
    "kernelspec": {
      "name": "python3",
      "display_name": "Python 3"
    },
    "language_info": {
      "name": "python"
    }
  },
  "cells": [
    {
      "cell_type": "code",
      "execution_count": null,
      "metadata": {
        "id": "0xuiZxJNSt4j"
      },
      "outputs": [],
      "source": [
        "!pip install buildozer #1st please look at \"Folder\" section in Google Colab that if your project files uploaded here or not. Please upload!"
      ]
    },
    {
      "cell_type": "code",
      "source": [
        "!pip install cython==0.29.33"
      ],
      "metadata": {
        "id": "Iu89Gv9aTU18"
      },
      "execution_count": null,
      "outputs": []
    },
    {
      "cell_type": "code",
      "source": [
        "!sudo apt install -y git zip unzip openjdk-17-jdk python3-pip autoconf libtool pkg-config zlib1g-dev libncurses5-dev libncursesw5-dev libtinfo5 cmake libffi-dev libssl-dev"
      ],
      "metadata": {
        "id": "8WzibvpKTXDi"
      },
      "execution_count": null,
      "outputs": []
    },
    {
      "cell_type": "code",
      "source": [
        "!buildozer init #Say 'yes' and after edit your buildozer.spec file."
      ],
      "metadata": {
        "id": "Tgirz39bTaDL"
      },
      "execution_count": null,
      "outputs": []
    },
    {
      "cell_type": "code",
      "source": [
        "!buildozer -v android debug #Last command. It tested July 2024 works well."
      ],
      "metadata": {
        "id": "l7UpY4HmTmyw"
      },
      "execution_count": null,
      "outputs": []
    },
    {
      "cell_type": "code",
      "source": [],
      "metadata": {
        "id": "11cAfn4XT25R"
      },
      "execution_count": null,
      "outputs": []
    }
  ]
}